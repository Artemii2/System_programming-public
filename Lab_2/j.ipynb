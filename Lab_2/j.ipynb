{
 "cells": [
  {
   "cell_type": "code",
   "execution_count": 2,
   "metadata": {},
   "outputs": [
    {
     "data": {
      "text/html": [
       "<div>\n",
       "<style scoped>\n",
       "    .dataframe tbody tr th:only-of-type {\n",
       "        vertical-align: middle;\n",
       "    }\n",
       "\n",
       "    .dataframe tbody tr th {\n",
       "        vertical-align: top;\n",
       "    }\n",
       "\n",
       "    .dataframe thead th {\n",
       "        text-align: right;\n",
       "    }\n",
       "</style>\n",
       "<table border=\"1\" class=\"dataframe\">\n",
       "  <thead>\n",
       "    <tr style=\"text-align: right;\">\n",
       "      <th></th>\n",
       "      <th>Задание</th>\n",
       "      <th>Параметры</th>\n",
       "    </tr>\n",
       "  </thead>\n",
       "  <tbody>\n",
       "    <tr>\n",
       "      <th>0</th>\n",
       "      <td>1</td>\n",
       "      <td>S=sJIJvpnqbTsHMRLDgPqJFpEblchrAjtUKcK</td>\n",
       "    </tr>\n",
       "    <tr>\n",
       "      <th>1</th>\n",
       "      <td>2</td>\n",
       "      <td>[*, N=406, M =14, K = 29]</td>\n",
       "    </tr>\n",
       "    <tr>\n",
       "      <th>2</th>\n",
       "      <td>3</td>\n",
       "      <td>-</td>\n",
       "    </tr>\n",
       "    <tr>\n",
       "      <th>3</th>\n",
       "      <td>4</td>\n",
       "      <td>N=3618218374</td>\n",
       "    </tr>\n",
       "    <tr>\n",
       "      <th>4</th>\n",
       "      <td>5</td>\n",
       "      <td>-</td>\n",
       "    </tr>\n",
       "  </tbody>\n",
       "</table>\n",
       "</div>"
      ],
      "text/plain": [
       "   Задание                              Параметры\n",
       "0        1  S=sJIJvpnqbTsHMRLDgPqJFpEblchrAjtUKcK\n",
       "1        2              [*, N=406, M =14, K = 29]\n",
       "2        3                                      -\n",
       "3        4                           N=3618218374\n",
       "4        5                                      -"
      ]
     },
     "execution_count": 2,
     "metadata": {},
     "output_type": "execute_result"
    }
   ],
   "source": [
    "import random as rd\n",
    "import pandas as pd\n",
    "import math\n",
    "\n",
    "Variant = 12\n",
    "rd.seed(Variant)\n",
    "Str1 = 'qwertyuioplkjhgfdsazxcvbnmQWERTYUIOPASDFGHJKLZXCVBNM'\n",
    "N = rd.randint(20,40)\n",
    "s1 = ''\n",
    "for i in range(N):\n",
    "    s1 += Str1[rd.randint(0, len(Str1)-1)]\n",
    "D = '!@#$%&*+:;|'[rd.randint(0,10)]\n",
    "N1 = rd.randint(3,30)\n",
    "N2 = int(N1 * (N1 + 1) / 2)\n",
    "if (int(N2/N1) - math.floor(N2/N1)) == 0:\n",
    "    M = int(N2 / N1)\n",
    "    K = int(N2 / M)\n",
    "else:\n",
    "    M = int(N2 / (N1 + 1))\n",
    "    K = int(N2 / M)\n",
    "N4 = rd.randint(123432, 5645634534)\n",
    "Data  = pd.DataFrame({'Задание':[1,2,3,4,5],'Параметры':['S='+s1,[D, 'N='+str(N2),\n",
    "                    'M ='+str(M), 'K = '+str(K)],'-','N='+str(N4),'-']})\n",
    "Data"
   ]
  },
  {
   "cell_type": "markdown",
   "metadata": {},
   "source": [
    "Задание 1\n"
   ]
  },
  {
   "cell_type": "code",
   "execution_count": null,
   "metadata": {
    "vscode": {
     "languageId": "bat"
    }
   },
   "outputs": [],
   "source": [
    "format ELF64\n",
    "\n",
    "public _start\n",
    "public exit\n",
    "public print_symb\n",
    "\n",
    "section '.data'\n",
    "  string db 'sJIJvpnqbTsHMRLDgPqJFpEblchrAjtUKcK'\n",
    "\n",
    "section '.bss' writable\n",
    "  place db 1\n",
    "\n",
    "section '.text' executable\n",
    "  _start:\n",
    "    mov rcx, 35\n",
    "\n",
    "    .iter:\n",
    "       mov al, [string+rcx]\n",
    "       push rcx             \n",
    "       call print_symb      \n",
    "       pop rcx             \n",
    "       dec rcx              \n",
    "       cmp rcx, -1         \n",
    "       jne .iter\n",
    "\n",
    "    call exit            \n",
    "\n",
    "print_symb:\n",
    "  push rax\n",
    "  mov eax, 1          \n",
    "  mov edi, 1          \n",
    "  pop rdx             \n",
    "  mov [place], dl     \n",
    "  mov rsi, place       \n",
    "  mov edx, 1          \n",
    "  syscall             \n",
    "  ret\n",
    "\n",
    "exit:\n",
    "  mov eax, 60       \n",
    "  xor edi, edi       \n",
    "  syscall    "
   ]
  },
  {
   "cell_type": "code",
   "execution_count": null,
   "metadata": {
    "vscode": {
     "languageId": "bat"
    }
   },
   "outputs": [],
   "source": [
    "@Artemii2 ➜ /workspaces/System_programming-public/Lab_2 (main) $ fasm part.asm\n",
    "flat assembler  version 1.73.22  (16384 kilobytes memory)\n",
    "2 passes, 936 bytes.\n",
    "@Artemii2 ➜ /workspaces/System_programming-public/Lab_2 (main) $ ld part.o\n",
    "@Artemii2 ➜ /workspaces/System_programming-public/Lab_2 (main) $ ./a.out\n",
    "KcKUtjArhclbEpFJqPgDLRMHsTbqnpvJIJs@Artemii2 ➜ /workspaces/System_programming-public/Lab_2 (main) $ \n"
   ]
  },
  {
   "cell_type": "markdown",
   "metadata": {},
   "source": [
    "Задание 2"
   ]
  },
  {
   "cell_type": "code",
   "execution_count": null,
   "metadata": {
    "vscode": {
     "languageId": "bat"
    }
   },
   "outputs": [],
   "source": [
    "format ELF64\n",
    "\n",
    "public _start\n",
    "public exit\n",
    "public print_symb\n",
    "\n",
    "section '.bss' writable\n",
    "  array db 14 dup ('*')\n",
    "  newline db 29 dup (0xA)\n",
    "  place db 1\n",
    "\n",
    "section '.text' executable\n",
    "  _start:\n",
    "    xor rsi, rsi\n",
    "    .iter1:\n",
    "      xor rdi, rdi  \n",
    "      .iter2:\n",
    "        mov al, [array+rdi]\n",
    "        push rdi\n",
    "        call print_symb\n",
    "        pop rdi\n",
    "        inc rdi\n",
    "        cmp rdi,7\n",
    "        jne .iter2\n",
    "\n",
    "      mov al, [newline+rsi]\n",
    "      push rsi\n",
    "      call print_symb\n",
    "      pop rsi\n",
    "\n",
    "      inc rsi\n",
    "      cmp rsi,15\n",
    "      jne .iter1\n",
    "    call exit\n",
    "\n",
    "print_symb:\n",
    "  push rax           \n",
    "  mov [place], al    \n",
    "  mov eax, 4         \n",
    "  mov ebx, 1         \n",
    "  mov ecx, place     \n",
    "  mov edx, 1        \n",
    "  int 0x80           \n",
    "  pop rax            \n",
    "  ret\n",
    "\n",
    "exit:\n",
    "  mov eax, 1         \n",
    "  mov ebx, 0         \n",
    "  int 0x80"
   ]
  },
  {
   "cell_type": "code",
   "execution_count": null,
   "metadata": {
    "vscode": {
     "languageId": "bat"
    }
   },
   "outputs": [],
   "source": [
    "@Artemii2 ➜ /workspaces/System_programming-public/Lab_2 (main) $ fasm part.asm\n",
    "flat assembler  version 1.73.22  (16384 kilobytes memory)\n",
    "2 passes, 888 bytes.\n",
    "@Artemii2 ➜ /workspaces/System_programming-public/Lab_2 (main) $ ld part.o\n",
    "@Artemii2 ➜ /workspaces/System_programming-public/Lab_2 (main) $ ./a.out\n",
    "*******\n",
    "*******\n",
    "*******\n",
    "*******\n",
    "*******\n",
    "*******\n",
    "*******\n",
    "*******\n",
    "*******\n",
    "*******\n",
    "*******\n",
    "*******\n",
    "*******\n",
    "*******\n",
    "*******"
   ]
  },
  {
   "cell_type": "markdown",
   "metadata": {},
   "source": [
    "Задание 3"
   ]
  },
  {
   "cell_type": "code",
   "execution_count": null,
   "metadata": {
    "vscode": {
     "languageId": "bat"
    }
   },
   "outputs": [],
   "source": [
    "\n",
    "\n",
    "format ELF64\n",
    "\n",
    "public _start\n",
    "public exit\n",
    "public print_symb\n",
    "\n",
    "section '.bss' writable\n",
    "  array db 29 dup ('*')          \n",
    "  newline db 29 dup (0xA)  \n",
    "  place db 1\n",
    "  count dq 0                \n",
    "\n",
    "section '.text' executable\n",
    "  _start:\n",
    "    xor rsi, rsi    \n",
    "\n",
    "    .iter1:              \n",
    "      xor rdi, rdi  \n",
    "\n",
    "      mov rbx, [count]\n",
    "      inc rbx\n",
    "      mov [count], rbx  \n",
    "\n",
    "      .iter2:\n",
    "        mov al, [array + rdi]   \n",
    "        call print_symb        \n",
    "        inc rdi                \n",
    "        cmp rdi, [count]           \n",
    "        jne .iter2             \n",
    "\n",
    "      ; вывод новой строки\n",
    "      mov al, [newline + rsi]    \n",
    "      call print_symb            \n",
    "\n",
    "      inc rsi                  \n",
    "      cmp rsi, 15                \n",
    "      jne .iter1             \n",
    "    call exit                  \n",
    "\n",
    "print_symb:\n",
    "  push rax\n",
    "  mov [place], al\n",
    "  mov eax, 4\n",
    "  mov ebx, 1\n",
    "  mov ecx, place\n",
    "  mov edx, 1\n",
    "  int 0x80\n",
    "  pop rax\n",
    "  ret\n",
    "\n",
    "exit:\n",
    "  mov eax, 1\n",
    "  mov ebx, 0\n",
    "  int 0x80\n"
   ]
  },
  {
   "cell_type": "code",
   "execution_count": null,
   "metadata": {
    "vscode": {
     "languageId": "bat"
    }
   },
   "outputs": [],
   "source": [
    "@Artemii2 ➜ /workspaces/System_programming-public/Lab_2 (main) $ fasm part.asm\n",
    "flat assembler  version 1.73.22  (16384 kilobytes memory)\n",
    "2 passes, 1000 bytes.\n",
    "@Artemii2 ➜ /workspaces/System_programming-public/Lab_2 (main) $ ld part.o\n",
    "@Artemii2 ➜ /workspaces/System_programming-public/Lab_2 (main) $ ./a.out\n",
    "*\n",
    "**\n",
    "***\n",
    "****\n",
    "*****\n",
    "******\n",
    "*******\n",
    "********\n",
    "*********\n",
    "**********\n",
    "***********\n",
    "************\n",
    "*************\n",
    "**************\n",
    "***************"
   ]
  },
  {
   "cell_type": "markdown",
   "metadata": {},
   "source": [
    "Задание 4"
   ]
  },
  {
   "cell_type": "code",
   "execution_count": null,
   "metadata": {
    "vscode": {
     "languageId": "bat"
    }
   },
   "outputs": [],
   "source": [
    "\n",
    "\n",
    "format ELF64\n",
    "\n",
    "public _start\n",
    "public exit\n",
    "public print_symb\n",
    "\n",
    "section '.bss' writable\n",
    "  number dq 3618218374    \n",
    "  result dq 0            \n",
    "  ten dq 10                  \n",
    "  place db 1         \n",
    "\n",
    "section '.text' executable\n",
    "  _start:\n",
    "    mov rax, [number]      \n",
    "    xor rbx, rbx            \n",
    "    .sum_loop:\n",
    "      xor rdx, rdx           \n",
    "      div qword [ten]         \n",
    "      add rbx, rdx            \n",
    "      test rax, rax              \n",
    "      jnz .sum_loop        \n",
    "    mov [result], rbx        \n",
    "    call print_symb         \n",
    "    mov eax, 60              \n",
    "    xor edi, edi        \n",
    "    syscall                  \n",
    "\n",
    "print_symb:\n",
    "    mov rax, [result]       \n",
    "    mov rdi, 10             \n",
    "    xor rbx, rbx             \n",
    "    cmp rax, 0\n",
    "    je .print_zero\n",
    "    .loop:\n",
    "        xor rdx, rdx           \n",
    "        div rdi               \n",
    "        push rdx                \n",
    "        inc rbx                \n",
    "        test rax, rax           \n",
    "        jnz .loop                 \n",
    "    .print_loop:\n",
    "        pop rax                  \n",
    "        add rax, '0'             \n",
    "        mov [place], al         \n",
    "        mov eax, 1              \n",
    "        mov edi, 1              \n",
    "        mov rsi, place         \n",
    "        mov edx, 1              \n",
    "        syscall\n",
    "        dec rbx                 \n",
    "        jnz .print_loop       \n",
    "    ret\n",
    "    .print_zero:\n",
    "        mov byte [place], '0'\n",
    "        mov eax, 1              \n",
    "        mov edi, 1              \n",
    "        mov rsi, place         \n",
    "        mov edx, 1              \n",
    "        syscall\n",
    "        ret\n",
    "\n",
    "exit:\n",
    "  mov eax, 60\n",
    "  xor edi, edi\n",
    "  syscall\n"
   ]
  },
  {
   "cell_type": "code",
   "execution_count": null,
   "metadata": {
    "vscode": {
     "languageId": "bat"
    }
   },
   "outputs": [],
   "source": [
    "@Artemii2 ➜ /workspaces/System_programming-public/Lab_2 (main) $ fasm part.asm\n",
    "flat assembler  version 1.73.22  (16384 kilobytes memory)\n",
    "2 passes, 1040 bytes.\n",
    "@Artemii2 ➜ /workspaces/System_programming-public/Lab_2 (main) $ ld part.o\n",
    "@Artemii2 ➜ /workspaces/System_programming-public/Lab_2 (main) $ ./a.out\n",
    "43@Artemii2 ➜ /workspaces/System_programming-public/Lab_2 (main) $ "
   ]
  },
  {
   "cell_type": "markdown",
   "metadata": {},
   "source": [
    "Задание 5"
   ]
  },
  {
   "cell_type": "code",
   "execution_count": null,
   "metadata": {
    "vscode": {
     "languageId": "bat"
    }
   },
   "outputs": [],
   "source": [
    "# include <stdio.h>\n",
    "\n",
    "int main() {\n",
    "    long long number = 3618218374;\n",
    "    int sum = 0;\n",
    "\n",
    "    while (number > 0) {\n",
    "        sum += number % 10;\n",
    "        number /= 10;      \n",
    "    }\n",
    "\n",
    "    printf(\"%d\\n\", sum);\n",
    "    return 0;\n",
    "}\n"
   ]
  },
  {
   "cell_type": "markdown",
   "metadata": {},
   "source": [
    "Сокращённый код на С"
   ]
  },
  {
   "cell_type": "code",
   "execution_count": null,
   "metadata": {
    "vscode": {
     "languageId": "bat"
    }
   },
   "outputs": [],
   "source": [
    "# include <stdio.h>\n",
    "\n",
    "int main() {\n",
    "    long num = 3618218374;\n",
    "    \n",
    "    int sum = 0;\n",
    "\n",
    "    for(;num>0;num/=10)sum += num % 10;\n",
    "\n",
    "    printf(\"%d\\n\", sum);\n",
    "    return 0;\n",
    "}"
   ]
  },
  {
   "cell_type": "markdown",
   "metadata": {},
   "source": [
    "Сокращённый код на Assembler"
   ]
  },
  {
   "cell_type": "code",
   "execution_count": null,
   "metadata": {
    "vscode": {
     "languageId": "bat"
    }
   },
   "outputs": [],
   "source": [
    "\n",
    "\n",
    "format ELF64\n",
    "\n",
    "public _start\n",
    "public exit\n",
    "public print_symb\n",
    "\n",
    "section '.bss' writable\n",
    "  number dq 3618218374    \n",
    "  result dq 0            \n",
    "  ten dq 10                  \n",
    "  place db 1         \n",
    "\n",
    "section '.text' executable\n",
    "  _start:\n",
    "    mov rax, [number]      \n",
    "    xor rbx, rbx            \n",
    "    .sum_loop:\n",
    "      xor rdx, rdx           \n",
    "      div qword [ten]         \n",
    "      add rbx, rdx            \n",
    "      test rax, rax              \n",
    "      jnz .sum_loop        \n",
    "    mov [result], rbx        \n",
    "    call print_symb         \n",
    "    mov eax, 60              \n",
    "    xor edi, edi        \n",
    "    syscall                  \n",
    "\n",
    "print_symb:\n",
    "    mov rax, [result]       \n",
    "    mov rdi, 10             \n",
    "    xor rbx, rbx             \n",
    "    cmp rax, 0\n",
    "    je .print_zero\n",
    "    .loop:\n",
    "        xor rdx, rdx           \n",
    "        div rdi               \n",
    "        push rdx                \n",
    "        inc rbx                \n",
    "        test rax, rax           \n",
    "        jnz .loop                 \n",
    "    .print_loop:\n",
    "        pop rax                  \n",
    "        add rax, '0'             \n",
    "        mov [place], al         \n",
    "        mov eax, 1              \n",
    "        mov edi, 1              \n",
    "        mov rsi, place         \n",
    "        mov edx, 1              \n",
    "        syscall\n",
    "        dec rbx                 \n",
    "        jnz .print_loop       \n",
    "    ret\n",
    "    .print_zero:\n",
    "        mov byte [place], '0'\n",
    "        mov eax, 1              \n",
    "        mov edi, 1              \n",
    "        mov rsi, place         \n",
    "        mov edx, 1              \n",
    "        syscall\n",
    "        ret\n",
    "\n",
    "exit:\n",
    "  mov eax, 60\n",
    "  xor edi, edi\n",
    "  syscall\n"
   ]
  }
 ],
 "metadata": {
  "kernelspec": {
   "display_name": "Python 3",
   "language": "python",
   "name": "python3"
  },
  "language_info": {
   "codemirror_mode": {
    "name": "ipython",
    "version": 3
   },
   "file_extension": ".py",
   "mimetype": "text/x-python",
   "name": "python",
   "nbconvert_exporter": "python",
   "pygments_lexer": "ipython3",
   "version": "3.12.1"
  }
 },
 "nbformat": 4,
 "nbformat_minor": 2
}
